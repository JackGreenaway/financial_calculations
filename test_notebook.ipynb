{
 "cells": [
  {
   "cell_type": "code",
   "execution_count": 1,
   "metadata": {},
   "outputs": [],
   "source": [
    "import numpy as np\n",
    "import asset_calculations\n",
    "import bond_calculations\n",
    "import yfinance as yf\n",
    "import matplotlib.pyplot as plt"
   ]
  },
  {
   "cell_type": "code",
   "execution_count": 4,
   "metadata": {},
   "outputs": [
    {
     "data": {
      "text/plain": [
       "99.99999999999997"
      ]
     },
     "execution_count": 4,
     "metadata": {},
     "output_type": "execute_result"
    }
   ],
   "source": [
    "bond_calculations.bond_price(100, 0.06, 0.06, 10)"
   ]
  },
  {
   "cell_type": "code",
   "execution_count": 12,
   "metadata": {},
   "outputs": [
    {
     "name": "stdout",
     "output_type": "stream",
     "text": [
      "increase: 3.63\n",
      "decrease: -3.81\n"
     ]
    }
   ],
   "source": [
    "rate_inc = bond_calculations.bond_price(100, 0.06, 0.065, 10, freq=2)\n",
    "rate_dec = bond_calculations.bond_price(100, 0.06, 0.055, 10, freq=2)\n",
    "\n",
    "print(f\"increase: {rate_inc:.2f}\")\n",
    "print(f\"decrease: {rate_dec:.2f}\")"
   ]
  },
  {
   "cell_type": "code",
   "execution_count": 29,
   "metadata": {},
   "outputs": [
    {
     "name": "stdout",
     "output_type": "stream",
     "text": [
      "base rate = 0.06\n",
      "rate 4.5 : price 111.97 : ytm 0.045 : duration 7.639\n",
      "rate 5.0 : price 107.79 : ytm 0.050 : duration 7.572\n",
      "rate 5.5 : price 103.81 : ytm 0.055 : duration 7.506\n",
      "rate 6.0 : price 100.00 : ytm 0.060 : duration 7.439\n",
      "rate 6.5 : price 96.37 : ytm 0.065 : duration 7.371\n",
      "rate 7.0 : price 92.89 : ytm 0.070 : duration 7.304\n",
      "rate 7.5 : price 89.58 : ytm 0.074 : duration 7.236\n",
      "rate 8.0 : price 86.41 : ytm 0.079 : duration 7.168\n"
     ]
    }
   ],
   "source": [
    "rate_change = np.arange(-0.015, 0.020, 0.005)\n",
    "print(\"base rate = 0.06\")\n",
    "\n",
    "for rate in rate_change:\n",
    "    price = bond_calculations.bond_price(100, 0.06, 0.06 + rate, 10, freq=2)\n",
    "    ytm = bond_calculations.bond_ytm(100, price, 0.06, 10)\n",
    "    dur = bond_calculations.bond_duration(100, 0.06, 0.06 + rate, 10, True, freq=2)\n",
    "        \n",
    "    print(f\"rate {(rate + 0.06)*100:.1f} : price {price:.2f} : ytm {ytm:.3f} : duration {dur:.3f}\")"
   ]
  },
  {
   "cell_type": "code",
   "execution_count": null,
   "metadata": {},
   "outputs": [],
   "source": []
  }
 ],
 "metadata": {
  "kernelspec": {
   "display_name": "Python 3",
   "language": "python",
   "name": "python3"
  },
  "language_info": {
   "codemirror_mode": {
    "name": "ipython",
    "version": 3
   },
   "file_extension": ".py",
   "mimetype": "text/x-python",
   "name": "python",
   "nbconvert_exporter": "python",
   "pygments_lexer": "ipython3",
   "version": "3.9.13"
  },
  "orig_nbformat": 4
 },
 "nbformat": 4,
 "nbformat_minor": 2
}
