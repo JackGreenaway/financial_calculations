{
 "cells": [
  {
   "cell_type": "code",
   "execution_count": 1,
   "metadata": {},
   "outputs": [],
   "source": [
    "import numpy as np"
   ]
  },
  {
   "cell_type": "code",
   "execution_count": 2,
   "metadata": {},
   "outputs": [],
   "source": [
    "def bond_price(nominal, coupon, ytm, maturity, freq=2):\n",
    "    total_payments = maturity * freq\n",
    "    \n",
    "    coupon_payment = (nominal * coupon) / freq\n",
    "    \n",
    "    discount_rate = ytm / freq \n",
    "    \n",
    "    present_coupon_value = 0\n",
    "    for t in range(1, total_payments + 1):\n",
    "        present_coupon_value += coupon_payment / (1 + discount_rate) ** t\n",
    "        \n",
    "    present_nominal_value = nominal / (1 + discount_rate) ** total_payments\n",
    "    \n",
    "    bond_price = present_coupon_value + present_nominal_value\n",
    "    \n",
    "    return bond_price\n"
   ]
  },
  {
   "cell_type": "code",
   "execution_count": 3,
   "metadata": {},
   "outputs": [],
   "source": [
    "def bond_duration(nominal, coupon, ytm, maturity, freq=2, annual=True):\n",
    "    price = bond_price(nominal, coupon, ytm, maturity, freq=2)\n",
    "    \n",
    "    coupon_payment = (nominal * coupon) / freq\n",
    "    total_periods = freq * maturity\n",
    "    period_yield = ytm / freq\n",
    "    \n",
    "    # print(coupon_payment, total_periods, period_yield)\n",
    "    \n",
    "    numerator = 0\n",
    "    test = 0.5\n",
    "    for t in range(1, total_periods + 1):\n",
    "        if t != total_periods:\n",
    "            numerator += (t * coupon_payment) / (1 + period_yield) ** t\n",
    "            test += 0.5\n",
    "        else: \n",
    "            numerator += (total_periods * (nominal + coupon_payment)) / (1 + period_yield) ** total_periods\n",
    "\n",
    "    duration = numerator / price\n",
    "    duration = duration / freq if not annual else duration\n",
    "    \n",
    "    mod_duration = duration / (1 + (ytm / freq))\n",
    "    \n",
    "    return duration, mod_duration\n",
    "    "
   ]
  },
  {
   "cell_type": "code",
   "execution_count": 5,
   "metadata": {},
   "outputs": [],
   "source": [
    "def bond_convexity(nominal, coupon, ytm, maturity, freq=2, dy=0.01):\n",
    "    ytm_minus = ytm - dy\n",
    "    price_minus = bond_price(nominal, coupon, ytm_minus, maturity, freq=2)\n",
    "    \n",
    "    ytm_plus = ytm + dy\n",
    "    price_plus = bond_price(nominal, coupon, ytm_plus, maturity, freq=2)\n",
    "    \n",
    "    price = bond_price(nominal, coupon, ytm, maturity, freq=2)\n",
    "\n",
    "    convexity = (price_plus + price_minus - 2 * price) / (price * dy ** 2)\n",
    "    \n",
    "    return convexity\n"
   ]
  },
  {
   "cell_type": "code",
   "execution_count": 6,
   "metadata": {},
   "outputs": [],
   "source": [
    "nominal = 100\n",
    "coupon = 0.06\n",
    "ytm = 0.08\n",
    "maturity = 5 \n",
    "\n",
    "price = bond_price(nominal, coupon, ytm, maturity, freq=2)\n",
    "duration, mod_dur =  bond_duration(nominal, coupon, ytm, maturity, freq=2, annual=True)\n",
    "convexity = bond_convexity(nominal, coupon, ytm, maturity, freq=2)\n",
    "\n",
    "estimation = price * convexity * (0.15  ** 2) / 2 - (price * mod_dur * 0.01)"
   ]
  },
  {
   "cell_type": "code",
   "execution_count": 7,
   "metadata": {},
   "outputs": [
    {
     "data": {
      "text/plain": [
       "(91.88910422064495, 8.722915734073045, 21.157201760197207)"
      ]
     },
     "execution_count": 7,
     "metadata": {},
     "output_type": "execute_result"
    }
   ],
   "source": [
    "price, duration, convexity"
   ]
  },
  {
   "cell_type": "code",
   "execution_count": 8,
   "metadata": {},
   "outputs": [
    {
     "data": {
      "text/plain": [
       "14.16418440912527"
      ]
     },
     "execution_count": 8,
     "metadata": {},
     "output_type": "execute_result"
    }
   ],
   "source": [
    "estimation"
   ]
  },
  {
   "cell_type": "markdown",
   "metadata": {},
   "source": [
    "$$\n",
    "\\frac{{\\text{{Annual Interest Payment}} + \\frac{{\\text{{Face Value}} - \\text{{Current Price}}}}{{\\text{{Years to Maturity}}}}}}{{\\frac{{\\text{{Face Value}} + \\text{{Current Price}}}}{2}}}\n",
    "$$\n"
   ]
  },
  {
   "cell_type": "code",
   "execution_count": 34,
   "metadata": {},
   "outputs": [],
   "source": [
    "def bond_ytm(nominal, market_price, coupon, maturity):\n",
    "    coupon_payment = nominal * coupon\n",
    "    \n",
    "    numerator = coupon_payment + ((nominal - market_price) / maturity)\n",
    "    denominator = (nominal + market_price) / 2\n",
    "    \n",
    "    ytm = numerator / denominator\n",
    "    \n",
    "    return ytm\n",
    "    "
   ]
  },
  {
   "cell_type": "code",
   "execution_count": 35,
   "metadata": {},
   "outputs": [
    {
     "data": {
      "text/plain": [
       "0.057731958762886594"
      ]
     },
     "execution_count": 35,
     "metadata": {},
     "output_type": "execute_result"
    }
   ],
   "source": [
    "bond_ytm(100, 94, 0.05, 10)"
   ]
  },
  {
   "cell_type": "code",
   "execution_count": null,
   "metadata": {},
   "outputs": [],
   "source": []
  },
  {
   "cell_type": "code",
   "execution_count": null,
   "metadata": {},
   "outputs": [],
   "source": []
  }
 ],
 "metadata": {
  "kernelspec": {
   "display_name": "Python 3",
   "language": "python",
   "name": "python3"
  },
  "language_info": {
   "codemirror_mode": {
    "name": "ipython",
    "version": 3
   },
   "file_extension": ".py",
   "mimetype": "text/x-python",
   "name": "python",
   "nbconvert_exporter": "python",
   "pygments_lexer": "ipython3",
   "version": "3.9.13"
  },
  "orig_nbformat": 4
 },
 "nbformat": 4,
 "nbformat_minor": 2
}
