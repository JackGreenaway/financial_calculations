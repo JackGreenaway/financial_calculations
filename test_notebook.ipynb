{
 "cells": [
  {
   "cell_type": "code",
   "execution_count": 244,
   "metadata": {},
   "outputs": [],
   "source": [
    "import numpy as np\n",
    "import asset_calculations\n",
    "import bond_calculations"
   ]
  },
  {
   "cell_type": "code",
   "execution_count": 245,
   "metadata": {},
   "outputs": [],
   "source": [
    "nominal = 100\n",
    "coupon = 0.05\n",
    "ytm = 0.07\n",
    "maturity = 10\n",
    "freq = 2"
   ]
  },
  {
   "cell_type": "code",
   "execution_count": 246,
   "metadata": {},
   "outputs": [],
   "source": [
    "price = bond_calculations.bond_price(nominal=nominal, coupon=coupon, ytm=ytm, maturity=maturity, freq=2)\n",
    "price = 100.1559"
   ]
  },
  {
   "cell_type": "code",
   "execution_count": 247,
   "metadata": {},
   "outputs": [
    {
     "data": {
      "text/plain": [
       "(7.797649249801265, 7.53396062782731)"
      ]
     },
     "execution_count": 247,
     "metadata": {},
     "output_type": "execute_result"
    }
   ],
   "source": [
    "bond_calculations.bond_duration(nominal=nominal, coupon=coupon, ytm=ytm, maturity=maturity, freq=2)"
   ]
  },
  {
   "cell_type": "code",
   "execution_count": 248,
   "metadata": {},
   "outputs": [
    {
     "data": {
      "text/plain": [
       "70.00774929491187"
      ]
     },
     "execution_count": 248,
     "metadata": {},
     "output_type": "execute_result"
    }
   ],
   "source": [
    "bond_calculations.bond_convexity(nominal=nominal, coupon=coupon, ytm=ytm, maturity=maturity, freq=2)"
   ]
  },
  {
   "cell_type": "code",
   "execution_count": 249,
   "metadata": {},
   "outputs": [
    {
     "data": {
      "text/plain": [
       "0.04980527678674473"
      ]
     },
     "execution_count": 249,
     "metadata": {},
     "output_type": "execute_result"
    }
   ],
   "source": [
    "bond_calculations.bond_ytm(nominal=nominal, market_price=price, coupon=coupon, maturity=maturity)"
   ]
  },
  {
   "cell_type": "markdown",
   "metadata": {},
   "source": [
    "---\n",
    "## taylor series approximation"
   ]
  },
  {
   "cell_type": "markdown",
   "metadata": {},
   "source": [
    "$$\\frac{ΔP}{P} = -D \\cdot \\Delta y + \\frac{1}{2} \\cdot C \\cdot (y^2)$$\n"
   ]
  },
  {
   "cell_type": "code",
   "execution_count": 261,
   "metadata": {},
   "outputs": [],
   "source": [
    "def adjusted_bond_price(nominal: float, coupon: float, ytm: float, maturity: int, freq: int=2, yield_changes: list=[-0.15, 0.15, 0.0001]):\n",
    "    yield_changes = np.arange(yield_changes[0], yield_changes[1], yield_changes[2])\n",
    "    \n",
    "    duration = bond_calculations.bond_duration(nominal=nominal, coupon=coupon, ytm=ytm, maturity=maturity, freq=2)[1]\n",
    "    conv = bond_calculations.bond_convexity(nominal=nominal, coupon=coupon, ytm=ytm, maturity=maturity, freq=2)\n",
    "\n",
    "    bond_prices = []\n",
    "\n",
    "    for i in yield_changes:\n",
    "        one = -duration * i\n",
    "        two = 1/2 * conv * (i ** 2)\n",
    "        three = (one + two)\n",
    "        four = three + 1\n",
    "        \n",
    "        bond_value = four * price\n",
    "        \n",
    "        bond_prices.append([i.round(3), bond_value])\n",
    "        \n",
    "    return bond_prices, yield_changes\n",
    "\n"
   ]
  },
  {
   "cell_type": "code",
   "execution_count": 266,
   "metadata": {},
   "outputs": [],
   "source": [
    "bond_prices, yield_changes = adjusted_bond_price(nominal=nominal, coupon=coupon, ytm=ytm, maturity=maturity, freq=2, yield_changes=[-0.15, 0.15, 0.005])"
   ]
  },
  {
   "cell_type": "code",
   "execution_count": 267,
   "metadata": {},
   "outputs": [
    {
     "data": {
      "text/plain": [
       "[[-0.15, 292.2229938847619],\n",
       " [-0.145, 283.2790201095542],\n",
       " [-0.14, 274.51033856278667],\n",
       " [-0.135, 265.91694924445926],\n",
       " [-0.13, 257.4988521545721],\n",
       " [-0.125, 249.25604729312505],\n",
       " [-0.12, 241.18853466011814],\n",
       " [-0.115, 233.29631425555144],\n",
       " [-0.11, 225.57938607942486],\n",
       " [-0.105, 218.03775013173845],\n",
       " [-0.1, 210.6714064124922],\n",
       " [-0.095, 203.48035492168606],\n",
       " [-0.09, 196.4645956593201],\n",
       " [-0.085, 189.62412862539432],\n",
       " [-0.08, 182.95895381990871],\n",
       " [-0.075, 176.46907124286324],\n",
       " [-0.07, 170.15448089425792],\n",
       " [-0.065, 164.01518277409272],\n",
       " [-0.06, 158.05117688236774],\n",
       " [-0.055, 152.2624632190829],\n",
       " [-0.05, 146.6490417842382],\n",
       " [-0.045, 141.21091257783365],\n",
       " [-0.04, 135.9480755998693],\n",
       " [-0.035, 130.86053085034507],\n",
       " [-0.03, 125.94827832926099],\n",
       " [-0.025, 121.21131803661707],\n",
       " [-0.02, 116.64964997241334],\n",
       " [-0.015, 112.26327413664973],\n",
       " [-0.01, 108.0521905293263],\n",
       " [-0.005, 104.01639915044302],\n",
       " [0.0, 100.1558999999999],\n",
       " [0.005, 96.47069307799693],\n",
       " [0.01, 92.96077838443412],\n",
       " [0.015, 89.62615591931147],\n",
       " [0.02, 86.46682568262898],\n",
       " [0.025, 83.48278767438663],\n",
       " [0.03, 80.67404189458446],\n",
       " [0.035, 78.04058834322242],\n",
       " [0.04, 75.58242702030057],\n",
       " [0.045, 73.29955792581885],\n",
       " [0.05, 71.19198105977729],\n",
       " [0.055, 69.25969642217589],\n",
       " [0.06, 67.50270401301466],\n",
       " [0.065, 65.92100383229358],\n",
       " [0.07, 64.51459588001265],\n",
       " [0.075, 63.28348015617188],\n",
       " [0.08, 62.22765666077127],\n",
       " [0.085, 61.3471253938108],\n",
       " [0.09, 60.64188635529052],\n",
       " [0.095, 60.111939545210355],\n",
       " [0.1, 59.7572849635704],\n",
       " [0.105, 59.577922610370564],\n",
       " [0.11, 59.573852485610885],\n",
       " [0.115, 59.745074589291384],\n",
       " [0.12, 60.09158892141201],\n",
       " [0.125, 60.613395481972816],\n",
       " [0.13, 61.31049427097378],\n",
       " [0.135, 62.18288528841489],\n",
       " [0.14, 63.230568534296154],\n",
       " [0.145, 64.45354400861758]]"
      ]
     },
     "execution_count": 267,
     "metadata": {},
     "output_type": "execute_result"
    }
   ],
   "source": [
    "bond_prices"
   ]
  },
  {
   "cell_type": "code",
   "execution_count": 213,
   "metadata": {},
   "outputs": [
    {
     "data": {
      "text/plain": [
       "(Text(0.5, 0, 'change in rates'), Text(0, 0.5, 'bond price'))"
      ]
     },
     "execution_count": 213,
     "metadata": {},
     "output_type": "execute_result"
    },
    {
     "data": {
      "image/png": "[encoded data removed]",
      "text/plain": [
       "<Figure size 640x480 with 1 Axes>"
      ]
     },
     "metadata": {},
     "output_type": "display_data"
    }
   ],
   "source": [
    "import matplotlib.pyplot as plt\n",
    "\n",
    "plt.plot(yield_changes, bond_prices)\n",
    "plt.xlabel(\"change in rates\"), plt.ylabel(\"bond price\")"
   ]
  },
  {
   "cell_type": "code",
   "execution_count": 234,
   "metadata": {},
   "outputs": [],
   "source": [
    "tt = []\n",
    "\n",
    "tt.append((3, 5))\n",
    "tt.append((34, 5))"
   ]
  },
  {
   "cell_type": "code",
   "execution_count": 235,
   "metadata": {},
   "outputs": [
    {
     "data": {
      "text/plain": [
       "[(3, 5), (34, 5)]"
      ]
     },
     "execution_count": 235,
     "metadata": {},
     "output_type": "execute_result"
    }
   ],
   "source": [
    "tt"
   ]
  },
  {
   "cell_type": "code",
   "execution_count": 241,
   "metadata": {},
   "outputs": [
    {
     "data": {
      "text/plain": [
       "3"
      ]
     },
     "execution_count": 241,
     "metadata": {},
     "output_type": "execute_result"
    }
   ],
   "source": []
  },
  {
   "cell_type": "code",
   "execution_count": null,
   "metadata": {},
   "outputs": [],
   "source": []
  }
 ],
 "metadata": {
  "kernelspec": {
   "display_name": "Python 3",
   "language": "python",
   "name": "python3"
  },
  "language_info": {
   "codemirror_mode": {
    "name": "ipython",
    "version": 3
   },
   "file_extension": ".py",
   "mimetype": "text/x-python",
   "name": "python",
   "nbconvert_exporter": "python",
   "pygments_lexer": "ipython3",
   "version": "3.9.13"
  },
  "orig_nbformat": 4
 },
 "nbformat": 4,
 "nbformat_minor": 2
}
